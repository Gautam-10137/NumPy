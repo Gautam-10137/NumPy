{
 "cells": [
  {
   "cell_type": "code",
   "execution_count": 1,
   "id": "4d3e4718",
   "metadata": {},
   "outputs": [],
   "source": [
    "my_list=[1,2,3]"
   ]
  },
  {
   "cell_type": "code",
   "execution_count": 2,
   "id": "aa2d1549",
   "metadata": {},
   "outputs": [
    {
     "data": {
      "text/plain": [
       "[1, 2, 3]"
      ]
     },
     "execution_count": 2,
     "metadata": {},
     "output_type": "execute_result"
    }
   ],
   "source": [
    "my_list"
   ]
  },
  {
   "cell_type": "code",
   "execution_count": 3,
   "id": "52598cc2",
   "metadata": {},
   "outputs": [],
   "source": [
    "import numpy as np\n"
   ]
  },
  {
   "cell_type": "code",
   "execution_count": 5,
   "id": "f0b4a58e",
   "metadata": {},
   "outputs": [],
   "source": [
    "arr=np.array(my_list)"
   ]
  },
  {
   "cell_type": "code",
   "execution_count": 6,
   "id": "2c057ca3",
   "metadata": {},
   "outputs": [
    {
     "data": {
      "text/plain": [
       "array([1, 2, 3])"
      ]
     },
     "execution_count": 6,
     "metadata": {},
     "output_type": "execute_result"
    }
   ],
   "source": [
    "arr"
   ]
  },
  {
   "cell_type": "code",
   "execution_count": 7,
   "id": "271cf32b",
   "metadata": {},
   "outputs": [],
   "source": [
    "my_2d=[[1,2,3],[4,5,6],[7,8,9]]"
   ]
  },
  {
   "cell_type": "code",
   "execution_count": 9,
   "id": "ecc9b8f7",
   "metadata": {},
   "outputs": [
    {
     "data": {
      "text/plain": [
       "[[1, 2, 3], [4, 5, 6], [7, 8, 9]]"
      ]
     },
     "execution_count": 9,
     "metadata": {},
     "output_type": "execute_result"
    }
   ],
   "source": [
    "my_2d"
   ]
  },
  {
   "cell_type": "code",
   "execution_count": 10,
   "id": "c34bbb4d",
   "metadata": {},
   "outputs": [],
   "source": [
    "arr2d=np.array(my_2d)"
   ]
  },
  {
   "cell_type": "code",
   "execution_count": 11,
   "id": "eb0841c2",
   "metadata": {},
   "outputs": [
    {
     "data": {
      "text/plain": [
       "array([[1, 2, 3],\n",
       "       [4, 5, 6],\n",
       "       [7, 8, 9]])"
      ]
     },
     "execution_count": 11,
     "metadata": {},
     "output_type": "execute_result"
    }
   ],
   "source": [
    "arr2d"
   ]
  },
  {
   "cell_type": "markdown",
   "id": "c0409f3e",
   "metadata": {},
   "source": [
    "## Builtin array"
   ]
  },
  {
   "cell_type": "code",
   "execution_count": 12,
   "id": "9405f91d",
   "metadata": {},
   "outputs": [
    {
     "data": {
      "text/plain": [
       "array([1, 2, 3, 4, 5, 6, 7, 8, 9])"
      ]
     },
     "execution_count": 12,
     "metadata": {},
     "output_type": "execute_result"
    }
   ],
   "source": [
    "np.arange(1,10)"
   ]
  },
  {
   "cell_type": "code",
   "execution_count": 18,
   "id": "c978a66d",
   "metadata": {},
   "outputs": [
    {
     "data": {
      "text/plain": [
       "array([1, 3, 5, 7, 9])"
      ]
     },
     "execution_count": 18,
     "metadata": {},
     "output_type": "execute_result"
    }
   ],
   "source": [
    "# step size\n",
    "a=np.arange(1,11,2)\n",
    "b=np.arange(0,11,2)\n",
    "b\n",
    "a\n",
    "# will print only once"
   ]
  },
  {
   "cell_type": "code",
   "execution_count": 19,
   "id": "9c4e23c3",
   "metadata": {},
   "outputs": [
    {
     "data": {
      "text/plain": [
       "array([0., 0., 0., 0., 0.])"
      ]
     },
     "execution_count": 19,
     "metadata": {},
     "output_type": "execute_result"
    }
   ],
   "source": [
    "# alll zeros\n",
    "np.zeros(5)"
   ]
  },
  {
   "cell_type": "code",
   "execution_count": 21,
   "id": "19e5f5fb",
   "metadata": {},
   "outputs": [
    {
     "data": {
      "text/plain": [
       "array([[0., 0., 0., 0.],\n",
       "       [0., 0., 0., 0.],\n",
       "       [0., 0., 0., 0.],\n",
       "       [0., 0., 0., 0.],\n",
       "       [0., 0., 0., 0.]])"
      ]
     },
     "execution_count": 21,
     "metadata": {},
     "output_type": "execute_result"
    }
   ],
   "source": [
    "np.zeros((5,4))"
   ]
  },
  {
   "cell_type": "code",
   "execution_count": 22,
   "id": "dfd43d57",
   "metadata": {},
   "outputs": [
    {
     "data": {
      "text/plain": [
       "array([1., 1., 1.])"
      ]
     },
     "execution_count": 22,
     "metadata": {},
     "output_type": "execute_result"
    }
   ],
   "source": [
    "# all 1's\n",
    "np.ones(3)"
   ]
  },
  {
   "cell_type": "code",
   "execution_count": 24,
   "id": "140a3b5a",
   "metadata": {},
   "outputs": [
    {
     "data": {
      "text/plain": [
       "array([[1., 1., 1.],\n",
       "       [1., 1., 1.],\n",
       "       [1., 1., 1.],\n",
       "       [1., 1., 1.],\n",
       "       [1., 1., 1.],\n",
       "       [1., 1., 1.]])"
      ]
     },
     "execution_count": 24,
     "metadata": {},
     "output_type": "execute_result"
    }
   ],
   "source": [
    "np.ones((6,3))"
   ]
  },
  {
   "cell_type": "code",
   "execution_count": 25,
   "id": "75eb65ee",
   "metadata": {},
   "outputs": [
    {
     "data": {
      "text/plain": [
       "array([ 0.        ,  0.52631579,  1.05263158,  1.57894737,  2.10526316,\n",
       "        2.63157895,  3.15789474,  3.68421053,  4.21052632,  4.73684211,\n",
       "        5.26315789,  5.78947368,  6.31578947,  6.84210526,  7.36842105,\n",
       "        7.89473684,  8.42105263,  8.94736842,  9.47368421, 10.        ])"
      ]
     },
     "execution_count": 25,
     "metadata": {},
     "output_type": "execute_result"
    }
   ],
   "source": [
    "# to have evenly spaced points\n",
    "np.linspace(0,10,20)"
   ]
  },
  {
   "cell_type": "code",
   "execution_count": 26,
   "id": "fa8b71de",
   "metadata": {},
   "outputs": [
    {
     "data": {
      "text/plain": [
       "array([ 1.        ,  1.47368421,  1.94736842,  2.42105263,  2.89473684,\n",
       "        3.36842105,  3.84210526,  4.31578947,  4.78947368,  5.26315789,\n",
       "        5.73684211,  6.21052632,  6.68421053,  7.15789474,  7.63157895,\n",
       "        8.10526316,  8.57894737,  9.05263158,  9.52631579, 10.        ])"
      ]
     },
     "execution_count": 26,
     "metadata": {},
     "output_type": "execute_result"
    }
   ],
   "source": [
    "np.linspace(1,10,20)"
   ]
  },
  {
   "cell_type": "code",
   "execution_count": 27,
   "id": "742f7905",
   "metadata": {},
   "outputs": [
    {
     "data": {
      "text/plain": [
       "array([ 1.        ,  1.04522613,  1.09045226,  1.13567839,  1.18090452,\n",
       "        1.22613065,  1.27135678,  1.31658291,  1.36180905,  1.40703518,\n",
       "        1.45226131,  1.49748744,  1.54271357,  1.5879397 ,  1.63316583,\n",
       "        1.67839196,  1.72361809,  1.76884422,  1.81407035,  1.85929648,\n",
       "        1.90452261,  1.94974874,  1.99497487,  2.04020101,  2.08542714,\n",
       "        2.13065327,  2.1758794 ,  2.22110553,  2.26633166,  2.31155779,\n",
       "        2.35678392,  2.40201005,  2.44723618,  2.49246231,  2.53768844,\n",
       "        2.58291457,  2.6281407 ,  2.67336683,  2.71859296,  2.7638191 ,\n",
       "        2.80904523,  2.85427136,  2.89949749,  2.94472362,  2.98994975,\n",
       "        3.03517588,  3.08040201,  3.12562814,  3.17085427,  3.2160804 ,\n",
       "        3.26130653,  3.30653266,  3.35175879,  3.39698492,  3.44221106,\n",
       "        3.48743719,  3.53266332,  3.57788945,  3.62311558,  3.66834171,\n",
       "        3.71356784,  3.75879397,  3.8040201 ,  3.84924623,  3.89447236,\n",
       "        3.93969849,  3.98492462,  4.03015075,  4.07537688,  4.12060302,\n",
       "        4.16582915,  4.21105528,  4.25628141,  4.30150754,  4.34673367,\n",
       "        4.3919598 ,  4.43718593,  4.48241206,  4.52763819,  4.57286432,\n",
       "        4.61809045,  4.66331658,  4.70854271,  4.75376884,  4.79899497,\n",
       "        4.84422111,  4.88944724,  4.93467337,  4.9798995 ,  5.02512563,\n",
       "        5.07035176,  5.11557789,  5.16080402,  5.20603015,  5.25125628,\n",
       "        5.29648241,  5.34170854,  5.38693467,  5.4321608 ,  5.47738693,\n",
       "        5.52261307,  5.5678392 ,  5.61306533,  5.65829146,  5.70351759,\n",
       "        5.74874372,  5.79396985,  5.83919598,  5.88442211,  5.92964824,\n",
       "        5.97487437,  6.0201005 ,  6.06532663,  6.11055276,  6.15577889,\n",
       "        6.20100503,  6.24623116,  6.29145729,  6.33668342,  6.38190955,\n",
       "        6.42713568,  6.47236181,  6.51758794,  6.56281407,  6.6080402 ,\n",
       "        6.65326633,  6.69849246,  6.74371859,  6.78894472,  6.83417085,\n",
       "        6.87939698,  6.92462312,  6.96984925,  7.01507538,  7.06030151,\n",
       "        7.10552764,  7.15075377,  7.1959799 ,  7.24120603,  7.28643216,\n",
       "        7.33165829,  7.37688442,  7.42211055,  7.46733668,  7.51256281,\n",
       "        7.55778894,  7.60301508,  7.64824121,  7.69346734,  7.73869347,\n",
       "        7.7839196 ,  7.82914573,  7.87437186,  7.91959799,  7.96482412,\n",
       "        8.01005025,  8.05527638,  8.10050251,  8.14572864,  8.19095477,\n",
       "        8.2361809 ,  8.28140704,  8.32663317,  8.3718593 ,  8.41708543,\n",
       "        8.46231156,  8.50753769,  8.55276382,  8.59798995,  8.64321608,\n",
       "        8.68844221,  8.73366834,  8.77889447,  8.8241206 ,  8.86934673,\n",
       "        8.91457286,  8.95979899,  9.00502513,  9.05025126,  9.09547739,\n",
       "        9.14070352,  9.18592965,  9.23115578,  9.27638191,  9.32160804,\n",
       "        9.36683417,  9.4120603 ,  9.45728643,  9.50251256,  9.54773869,\n",
       "        9.59296482,  9.63819095,  9.68341709,  9.72864322,  9.77386935,\n",
       "        9.81909548,  9.86432161,  9.90954774,  9.95477387, 10.        ])"
      ]
     },
     "execution_count": 27,
     "metadata": {},
     "output_type": "execute_result"
    }
   ],
   "source": [
    "np.linspace(1,10,200)"
   ]
  },
  {
   "cell_type": "code",
   "execution_count": 28,
   "id": "c345df42",
   "metadata": {},
   "outputs": [],
   "source": [
    "# range's 3rd arg. = step size you want\n",
    "# linspace's 3rd arg.= no. of points you want"
   ]
  },
  {
   "cell_type": "code",
   "execution_count": 29,
   "id": "7598833d",
   "metadata": {},
   "outputs": [
    {
     "data": {
      "text/plain": [
       "array([[1., 0., 0., 0.],\n",
       "       [0., 1., 0., 0.],\n",
       "       [0., 0., 1., 0.],\n",
       "       [0., 0., 0., 1.]])"
      ]
     },
     "execution_count": 29,
     "metadata": {},
     "output_type": "execute_result"
    }
   ],
   "source": [
    "# Identity matrix\n",
    "np.eye(4)"
   ]
  },
  {
   "cell_type": "code",
   "execution_count": 30,
   "id": "27268348",
   "metadata": {},
   "outputs": [
    {
     "data": {
      "text/plain": [
       "array([0.04233008, 0.47103144, 0.60105763, 0.53586405, 0.83390164])"
      ]
     },
     "execution_count": 30,
     "metadata": {},
     "output_type": "execute_result"
    }
   ],
   "source": [
    "# an array of random numbers\n",
    "np.random.rand(5)   # outputs b/w 0 and 1"
   ]
  },
  {
   "cell_type": "code",
   "execution_count": 31,
   "id": "da4762b7",
   "metadata": {},
   "outputs": [
    {
     "data": {
      "text/plain": [
       "array([[0.0498105 , 0.5594931 , 0.94619313, 0.43133492],\n",
       "       [0.6403046 , 0.81974447, 0.38389515, 0.29691634],\n",
       "       [0.60076074, 0.57013413, 0.19757844, 0.22913498],\n",
       "       [0.62809139, 0.85539962, 0.96527891, 0.88904113]])"
      ]
     },
     "execution_count": 31,
     "metadata": {},
     "output_type": "execute_result"
    }
   ],
   "source": [
    "np.random.rand(4,4)      # 2d"
   ]
  },
  {
   "cell_type": "code",
   "execution_count": 32,
   "id": "7409dd87",
   "metadata": {},
   "outputs": [],
   "source": [
    "# .rand -> uniform distr. from 0 to 1\n",
    "#  .randn -> standard normal distr. around 0   i.e. -1 to 1\n",
    "#             e.g. Gaussian distr. curve"
   ]
  },
  {
   "cell_type": "code",
   "execution_count": 34,
   "id": "626e3e69",
   "metadata": {},
   "outputs": [
    {
     "data": {
      "text/plain": [
       "26"
      ]
     },
     "execution_count": 34,
     "metadata": {},
     "output_type": "execute_result"
    }
   ],
   "source": [
    "# to select a random number between given range\n",
    "np.random.randint(1,100)   # b/w 1 to 99 "
   ]
  },
  {
   "cell_type": "code",
   "execution_count": 36,
   "id": "351cefe7",
   "metadata": {},
   "outputs": [
    {
     "data": {
      "text/plain": [
       "array([54, 28, 33, 96, 79, 63, 46, 32, 72, 18])"
      ]
     },
     "execution_count": 36,
     "metadata": {},
     "output_type": "execute_result"
    }
   ],
   "source": [
    "np.random.randint(1,100,10)   # array containing 10 number of random numbers "
   ]
  },
  {
   "cell_type": "code",
   "execution_count": 37,
   "id": "0cfd851c",
   "metadata": {},
   "outputs": [],
   "source": [
    "arr=np.arange(0,25)"
   ]
  },
  {
   "cell_type": "code",
   "execution_count": 38,
   "id": "89c6a1ac",
   "metadata": {},
   "outputs": [
    {
     "data": {
      "text/plain": [
       "array([ 0,  1,  2,  3,  4,  5,  6,  7,  8,  9, 10, 11, 12, 13, 14, 15, 16,\n",
       "       17, 18, 19, 20, 21, 22, 23, 24])"
      ]
     },
     "execution_count": 38,
     "metadata": {},
     "output_type": "execute_result"
    }
   ],
   "source": [
    "arr"
   ]
  },
  {
   "cell_type": "code",
   "execution_count": 39,
   "id": "f07071be",
   "metadata": {},
   "outputs": [
    {
     "data": {
      "text/plain": [
       "array([[ 0,  1,  2,  3,  4],\n",
       "       [ 5,  6,  7,  8,  9],\n",
       "       [10, 11, 12, 13, 14],\n",
       "       [15, 16, 17, 18, 19],\n",
       "       [20, 21, 22, 23, 24]])"
      ]
     },
     "execution_count": 39,
     "metadata": {},
     "output_type": "execute_result"
    }
   ],
   "source": [
    "# reshaping the array\n",
    "arr.reshape(5,5)  # it should fill all elements of arr,otherwise give error"
   ]
  },
  {
   "cell_type": "code",
   "execution_count": 41,
   "id": "fbe1847c",
   "metadata": {},
   "outputs": [],
   "source": [
    "# arr.reshape(2,4)         -> error"
   ]
  },
  {
   "cell_type": "code",
   "execution_count": 42,
   "id": "7ff3887a",
   "metadata": {},
   "outputs": [],
   "source": [
    "ranarr=np.random.randint(1,100,10)"
   ]
  },
  {
   "cell_type": "code",
   "execution_count": 43,
   "id": "88c3aec4",
   "metadata": {},
   "outputs": [
    {
     "data": {
      "text/plain": [
       "array([88, 47, 32, 19, 34, 56,  1, 14, 11, 79])"
      ]
     },
     "execution_count": 43,
     "metadata": {},
     "output_type": "execute_result"
    }
   ],
   "source": [
    "ranarr"
   ]
  },
  {
   "cell_type": "code",
   "execution_count": 44,
   "id": "00c8d064",
   "metadata": {},
   "outputs": [
    {
     "data": {
      "text/plain": [
       "88"
      ]
     },
     "execution_count": 44,
     "metadata": {},
     "output_type": "execute_result"
    }
   ],
   "source": [
    "ranarr.max()    # max element value"
   ]
  },
  {
   "cell_type": "code",
   "execution_count": 45,
   "id": "96fb1e42",
   "metadata": {},
   "outputs": [
    {
     "data": {
      "text/plain": [
       "1"
      ]
     },
     "execution_count": 45,
     "metadata": {},
     "output_type": "execute_result"
    }
   ],
   "source": [
    "ranarr.min()    # min element value"
   ]
  },
  {
   "cell_type": "code",
   "execution_count": 46,
   "id": "4eae947d",
   "metadata": {},
   "outputs": [
    {
     "data": {
      "text/plain": [
       "0"
      ]
     },
     "execution_count": 46,
     "metadata": {},
     "output_type": "execute_result"
    }
   ],
   "source": [
    "ranarr.argmax()  # index of max value"
   ]
  },
  {
   "cell_type": "code",
   "execution_count": 47,
   "id": "f32679c0",
   "metadata": {},
   "outputs": [
    {
     "data": {
      "text/plain": [
       "6"
      ]
     },
     "execution_count": 47,
     "metadata": {},
     "output_type": "execute_result"
    }
   ],
   "source": [
    "ranarr.argmin()   # index of min value"
   ]
  },
  {
   "cell_type": "code",
   "execution_count": 48,
   "id": "c9f22cf1",
   "metadata": {},
   "outputs": [
    {
     "data": {
      "text/plain": [
       "(25,)"
      ]
     },
     "execution_count": 48,
     "metadata": {},
     "output_type": "execute_result"
    }
   ],
   "source": [
    "# shape of array\n",
    "arr.shape"
   ]
  },
  {
   "cell_type": "code",
   "execution_count": 49,
   "id": "4320e02a",
   "metadata": {},
   "outputs": [
    {
     "data": {
      "text/plain": [
       "(10,)"
      ]
     },
     "execution_count": 49,
     "metadata": {},
     "output_type": "execute_result"
    }
   ],
   "source": [
    "ranarr.shape"
   ]
  },
  {
   "cell_type": "code",
   "execution_count": 50,
   "id": "a841f3d8",
   "metadata": {},
   "outputs": [
    {
     "data": {
      "text/plain": [
       "array([ 0,  1,  2,  3,  4,  5,  6,  7,  8,  9, 10, 11, 12, 13, 14, 15, 16,\n",
       "       17, 18, 19, 20, 21, 22, 23, 24])"
      ]
     },
     "execution_count": 50,
     "metadata": {},
     "output_type": "execute_result"
    }
   ],
   "source": [
    "arr"
   ]
  },
  {
   "cell_type": "code",
   "execution_count": 51,
   "id": "e37ce0f8",
   "metadata": {},
   "outputs": [
    {
     "data": {
      "text/plain": [
       "(5, 5)"
      ]
     },
     "execution_count": 51,
     "metadata": {},
     "output_type": "execute_result"
    }
   ],
   "source": [
    "arr=arr.reshape(5,5)\n",
    "arr.shape"
   ]
  },
  {
   "cell_type": "code",
   "execution_count": 52,
   "id": "b09a1ba5",
   "metadata": {},
   "outputs": [
    {
     "data": {
      "text/plain": [
       "dtype('int32')"
      ]
     },
     "execution_count": 52,
     "metadata": {},
     "output_type": "execute_result"
    }
   ],
   "source": [
    "arr.dtype  # datatype"
   ]
  },
  {
   "cell_type": "code",
   "execution_count": 59,
   "id": "dd23d2a8",
   "metadata": {},
   "outputs": [
    {
     "data": {
      "text/plain": [
       "74"
      ]
     },
     "execution_count": 59,
     "metadata": {},
     "output_type": "execute_result"
    }
   ],
   "source": [
    "# to have direct reference  of functions we have to import them\n",
    "from numpy.random import randint as ri\n",
    "\n",
    "ri(1,100)"
   ]
  },
  {
   "cell_type": "code",
   "execution_count": null,
   "id": "fa39d86a",
   "metadata": {},
   "outputs": [],
   "source": []
  },
  {
   "cell_type": "code",
   "execution_count": null,
   "id": "d332b95b",
   "metadata": {},
   "outputs": [],
   "source": []
  }
 ],
 "metadata": {
  "kernelspec": {
   "display_name": "Python 3 (ipykernel)",
   "language": "python",
   "name": "python3"
  },
  "language_info": {
   "codemirror_mode": {
    "name": "ipython",
    "version": 3
   },
   "file_extension": ".py",
   "mimetype": "text/x-python",
   "name": "python",
   "nbconvert_exporter": "python",
   "pygments_lexer": "ipython3",
   "version": "3.11.4"
  }
 },
 "nbformat": 4,
 "nbformat_minor": 5
}
